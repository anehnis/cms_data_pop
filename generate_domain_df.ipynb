{
 "cells": [
  {
   "cell_type": "code",
   "execution_count": 5,
   "id": "victorian-bronze",
   "metadata": {},
   "outputs": [],
   "source": [
    "from pyspark.sql import SparkSession\n",
    "import schemas"
   ]
  },
  {
   "cell_type": "code",
   "execution_count": 6,
   "id": "metric-patent",
   "metadata": {},
   "outputs": [],
   "source": [
    "domain_map = [\n",
    "    {\"domain\": \"accre.vanderbilt.edu\", \"site\": \"T2_US_Vanderbilt\"},\n",
    "    {\"domain\": \"acrc.bris.ac.uk\", \"site\": \"T2_UK_SGrid_Bristol\"},\n",
    "    {\"domain\": \"phy.bris.ac.uk\", \"site\": \"T2_UK_SGrid_Bristol\"},\n",
    "    {\"domain\": \"baylor.edu\", \"site\": \"T3_US_Baylor\"},\n",
    "    {\"domain\": \"brunel.ac.uk\", \"site\": \"T2_UK_London_Brunel\"},\n",
    "    {\"domain\": \"cern.ch\", \"site\": \"T2_CH_CERN\"},\n",
    "    {\"domain\": \"ciemat.es\", \"site\": \"T2_ES_CIEMAT\"},\n",
    "    {\"domain\": \"cis.gov.pl\", \"site\": \"T2_PL_Swierk\"},\n",
    "    {\"domain\": \"cism.ucl.ac.be\", \"site\": \"T2_BE_UCL\"},\n",
    "    {\"domain\": \"cmsaf.mit.edu\", \"site\": \"T2_US_MIT\"},\n",
    "    {\"domain\": \"colorado.edu\", \"site\": \"T3_US_Colorado\"},\n",
    "    {\"domain\": \"cr.cnaf.infn.it\", \"site\": \"T1_IT_CNAF_Disk\"},\n",
    "    {\"domain\": \"csc.fi\", \"site\": \"T2_FI_HIP\"},\n",
    "    {\"domain\": \"cscs.ch\", \"site\": \"T2_CH_CSCS\"},\n",
    "    {\"domain\": \"lcg.cscs.ch\", \"site\": \"T2_CH_CSCS\"},\n",
    "    {\"domain\": \"datagrid.cea.fr\", \"site\": \"T2_FR_GRIF_IRFU\"},\n",
    "    {\"domain\": \"desy.de\", \"site\": \"T2_DE_DESY\"},\n",
    "    {\"domain\": \"echo.stfc.ac.uk\", \"site\": \"T1_UK_RAL_Disk\"},\n",
    "    {\"domain\": \"eos.grid.vbc.ac.at\", \"site\": \"T2_AT_Vienna\"},\n",
    "    {\"domain\": \"grid.vbc.ac.at\", \"site\": \"T2_AT_Vienna\"},\n",
    "    {\"domain\": \"fnal.gov\", \"site\": \"T1_US_FNAL_Disk\"},\n",
    "    {\"domain\": \"grid.hep.ph.ic.ac.uk\", \"site\": \"T2_UK_London_IC\"},\n",
    "    {\"domain\": \"grid.metu.edu.tr\", \"site\": \"T2_TR_METU\"},\n",
    "    {\"domain\": \"grid.nchc.org.tw\", \"site\": \"T2_TW_NCHC\"},\n",
    "    {\"domain\": \"gridka.de\", \"site\": \"T1_DE_KIT_Disk\"},\n",
    "    {\"domain\": \"gridpp.rl.ac.uk\", \"site\": \"T1_UK_RAL_Disk\"},\n",
    "    {\"domain\": \"hep.kbfi.ee\", \"site\": \"T2_EE_Estonia\"},\n",
    "    {\"domain\": \"hep.uprm.edu\", \"site\": \"T3_US_PuertoRico\"},\n",
    "    {\"domain\": \"hep.wisc.edu\", \"site\": \"T2_US_Wisconsin\"},\n",
    "    {\"domain\": \"hepgrid.uerj.br\", \"site\": \"T2_BR_UERJ\"},\n",
    "    {\"domain\": \"ifca.es\", \"site\": \"T2_ES_IFCA\"},\n",
    "    {\"domain\": \"ihep.ac.cn\", \"site\": \"T2_CN_Beijing\"},\n",
    "    {\"domain\": \"iihe.ac.be\", \"site\": \"T2_BE_IIHE\"},\n",
    "    {\"domain\": \"in2p3.fr\", \"site\": \"T1_FR_CCIN2P3_Disk\"},\n",
    "    {\"domain\": \"in2p3.fr\", \"site\": \"T2_FR_GRIF_LLR\"},\n",
    "    {\"domain\": \"in2p3.fr\", \"site\": \"T2_FR_IPHC\"},\n",
    "    {\"domain\": \"indiacms.res.in\", \"site\": \"T2_IN_TIFR\"},\n",
    "    {\"domain\": \"inr.troitsk.ru\", \"site\": \"T2_RU_INR\"},\n",
    "    {\"domain\": \"itep.ru\", \"site\": \"T2_RU_ITEP\"},\n",
    "    {\"domain\": \"jinr-t1.ru\", \"site\": \"T1_RU_JINR_Disk\"},\n",
    "    {\"domain\": \"jinr.ru\", \"site\": \"T2_RU_JINR\"},\n",
    "    {\"domain\": \"kfki.hu\", \"site\": \"T2_HU_Budapest\"},\n",
    "    {\"domain\": \"kipt.kharkov.ua\", \"site\": \"T2_UA_KIPT\"},\n",
    "    {\"domain\": \"knu.ac.kr\", \"site\": \"T3_KR_KNU\"},\n",
    "    {\"domain\": \"lnl.infn.it\", \"site\": \"T2_IT_Legnaro\"},\n",
    "    {\"domain\": \"m45.ihep.su\", \"site\": \"T2_RU_IHEP\"},\n",
    "    {\"domain\": \"ncg.ingrid.pt\", \"site\": \"T2_PT_NCG_Lisbon\"},\n",
    "    {\"domain\": \"physics.uoi.gr\", \"site\": \"T2_GR_Ioannina\"},\n",
    "    {\"domain\": \"physik.rwth-aachen.de\", \"site\": \"T2_DE_RWTH\"},\n",
    "    {\"domain\": \"pi.infn.it\", \"site\": \"T2_IT_Pisa\"},\n",
    "    {\"domain\": \"pic.es\", \"site\": \"T1_ES_PIC_Disk\"},\n",
    "    {\"domain\": \"pp.rl.ac.uk\", \"site\": \"T2_UK_SGrid_RALPP\"},\n",
    "    {\"domain\": \"psi.ch\", \"site\": \"T3_CH_PSI\"},\n",
    "    {\"domain\": \"rc.ufl.edu\", \"site\": \"T2_US_Florida\"},\n",
    "    {\"domain\": \"rcac.purdue.edu\", \"site\": \"T2_US_Purdue\"},\n",
    "    {\"domain\": \"recas.ba.infn.it\", \"site\": \"T2_IT_Bari\"},\n",
    "    {\"domain\": \"roma1.infn.it\", \"site\": \"T2_IT_Rome\"},\n",
    "    {\"domain\": \"rutgers.edu\", \"site\": \"T3_US_Rutgers\"},\n",
    "    {\"domain\": \"sdfarm.kr\", \"site\": \"T2_KR_KISTI\"},\n",
    "    {\"domain\": \"sprace.org.br\", \"site\": \"T2_BR_SPRACE\"},\n",
    "    {\"domain\": \"t2.ucsd.edu\", \"site\": \"T2_US_UCSD\"},\n",
    "    {\"domain\": \"ultralight.org\", \"site\": \"T2_US_Caltech\"},\n",
    "    {\"domain\": \"unl.edu\", \"site\": \"T2_US_Nebraska\"},\n",
    "]"
   ]
  },
  {
   "cell_type": "code",
   "execution_count": 7,
   "id": "undefined-canyon",
   "metadata": {},
   "outputs": [],
   "source": [
    "df_domains = spark.createDataFrame(domain_map)"
   ]
  },
  {
   "cell_type": "code",
   "execution_count": 8,
   "id": "complimentary-import",
   "metadata": {},
   "outputs": [
    {
     "name": "stdout",
     "output_type": "stream",
     "text": [
      "+--------------------+-------------------+\n",
      "|              domain|               site|\n",
      "+--------------------+-------------------+\n",
      "|accre.vanderbilt.edu|   T2_US_Vanderbilt|\n",
      "|     acrc.bris.ac.uk|T2_UK_SGrid_Bristol|\n",
      "|      phy.bris.ac.uk|T2_UK_SGrid_Bristol|\n",
      "|          baylor.edu|       T3_US_Baylor|\n",
      "|        brunel.ac.uk|T2_UK_London_Brunel|\n",
      "|             cern.ch|         T2_CH_CERN|\n",
      "|           ciemat.es|       T2_ES_CIEMAT|\n",
      "|          cis.gov.pl|       T2_PL_Swierk|\n",
      "|      cism.ucl.ac.be|          T2_BE_UCL|\n",
      "|       cmsaf.mit.edu|          T2_US_MIT|\n",
      "|        colorado.edu|     T3_US_Colorado|\n",
      "|     cr.cnaf.infn.it|    T1_IT_CNAF_Disk|\n",
      "|              csc.fi|          T2_FI_HIP|\n",
      "|             cscs.ch|         T2_CH_CSCS|\n",
      "|         lcg.cscs.ch|         T2_CH_CSCS|\n",
      "|     datagrid.cea.fr|    T2_FR_GRIF_IRFU|\n",
      "|             desy.de|         T2_DE_DESY|\n",
      "|     echo.stfc.ac.uk|     T1_UK_RAL_Disk|\n",
      "|  eos.grid.vbc.ac.at|       T2_AT_Vienna|\n",
      "|      grid.vbc.ac.at|       T2_AT_Vienna|\n",
      "+--------------------+-------------------+\n",
      "only showing top 20 rows\n",
      "\n"
     ]
    }
   ],
   "source": [
    "df_domains.show()"
   ]
  },
  {
   "cell_type": "code",
   "execution_count": 10,
   "id": "american-herald",
   "metadata": {},
   "outputs": [],
   "source": [
    "df_domains.write.json(\"domain_map\")"
   ]
  },
  {
   "cell_type": "code",
   "execution_count": null,
   "id": "opened-longitude",
   "metadata": {},
   "outputs": [],
   "source": []
  }
 ],
 "metadata": {
  "kernelspec": {
   "display_name": "Python 3",
   "language": "python",
   "name": "python3"
  },
  "language_info": {
   "codemirror_mode": {
    "name": "ipython",
    "version": 3
   },
   "file_extension": ".py",
   "mimetype": "text/x-python",
   "name": "python",
   "nbconvert_exporter": "python",
   "pygments_lexer": "ipython3",
   "version": "3.8.6"
  },
  "sparkconnect": {
   "bundled_options": [],
   "list_of_options": []
  }
 },
 "nbformat": 4,
 "nbformat_minor": 5
}
