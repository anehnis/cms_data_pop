{
 "cells": [
  {
   "cell_type": "code",
   "execution_count": 1,
   "id": "opposed-deposit",
   "metadata": {},
   "outputs": [
    {
     "name": "stderr",
     "output_type": "stream",
     "text": [
      "/cvmfs/sft.cern.ch/lcg/views/LCG_100/x86_64-centos7-gcc8-opt/lib/python3.8/site-packages/dask/dataframe/utils.py:15: FutureWarning: pandas.util.testing is deprecated. Use the functions in the public API at pandas.testing instead.\n",
      "  import pandas.util.testing as tm\n"
     ]
    }
   ],
   "source": [
    "#!/usr/bin/env spark-submit\n",
    "from __future__ import print_function\n",
    "import argparse\n",
    "\n",
    "from pyspark import SparkConf, SparkContext\n",
    "from pyspark.sql import SparkSession\n",
    "from pyspark.sql.functions import col, when, coalesce, lit, collect_list\n",
    "import pyspark.sql.functions as fn\n",
    "import pyspark.sql.types as types\n",
    "import dask.dataframe as dd\n",
    "\n",
    "# stolen from CMSSpark\n",
    "import schemas"
   ]
  },
  {
   "cell_type": "code",
   "execution_count": 2,
   "id": "defined-emergency",
   "metadata": {},
   "outputs": [],
   "source": [
    "schema = types.StructType(\n",
    "        [\n",
    "            types.StructField(\n",
    "                \"data\",\n",
    "                types.StructType(\n",
    "                    [\n",
    "                        types.StructField(\"file_lfn\", types.StringType(), True),\n",
    "                        types.StructField(\"end_time\", types.LongType(), True),\n",
    "                        types.StructField(\"app_info\", types.StringType(), True),\n",
    "                        types.StructField(\"site_name\", types.StringType(), True),\n",
    "                        types.StructField(\"server_domain\", types.StringType(), True),\n",
    "                        types.StructField(\"fallback\", types.StringType(), True),\n",
    "                    ]\n",
    "                ),\n",
    "                False,\n",
    "            ),\n",
    "        ]\n",
    "    )\n"
   ]
  },
  {
   "cell_type": "code",
   "execution_count": 54,
   "id": "lightweight-chemistry",
   "metadata": {},
   "outputs": [],
   "source": [
    "df = (\n",
    "        spark.read.schema(schema)\n",
    "        .json(\"/project/monitoring/archive/cmssw_pop/raw/metric/%s/*.json.gz\" % \"2021/*/*\")\n",
    "        .select(\"data.*\")\n",
    "    )"
   ]
  },
  {
   "cell_type": "code",
   "execution_count": 55,
   "id": "choice-technology",
   "metadata": {},
   "outputs": [],
   "source": [
    "df = (\n",
    "        df.filter(df.file_lfn.startswith(\"/store/\"))\n",
    "        .withColumn(\"is_crab\", df.app_info.contains(\":crab:\"))\n",
    "        .drop(\"app_info\")\n",
    "        .withColumnRenamed(\"end_time\", \"timestamp\")\n",
    "    )"
   ]
  },
  {
   "cell_type": "code",
   "execution_count": 5,
   "id": "personal-lebanon",
   "metadata": {
    "scrolled": true
   },
   "outputs": [
    {
     "name": "stdout",
     "output_type": "stream",
     "text": [
      "+--------------------+----------+----------------+---------------+--------+-------+\n",
      "|            file_lfn| timestamp|       site_name|  server_domain|fallback|is_crab|\n",
      "+--------------------+----------+----------------+---------------+--------+-------+\n",
      "|/store/data/Run20...|1617242404|      T2_UA_KIPT|kipt.kharkov.ua|    null|   true|\n",
      "|/store/data/Run20...|1617242404|      T2_DE_DESY|        unknown|    null|   true|\n",
      "|/store/unmerged/R...|1617242404| T1_US_FNAL_Disk|       fnal.gov|    null|   null|\n",
      "|/store/unmerged/H...|1617242404|T2_US_Vanderbilt|        unknown|    null|   null|\n",
      "|/store/data/Run20...|1617242404| T2_US_Wisconsin|   hep.wisc.edu|    null|   true|\n",
      "|/store/data/Run20...|1617242404|      T2_DE_DESY|        unknown|    null|   true|\n",
      "|/store/data/Run20...|1617242405|    T2_US_Purdue|        unknown|    null|   true|\n",
      "|/store/unmerged/H...|1617242405|T2_US_Vanderbilt|        unknown|    null|   null|\n",
      "|/store/data/Run20...|1617242405| T2_UK_London_IC|        unknown|    null|   true|\n",
      "|/store/unmerged/R...|1617242406| T2_UK_London_IC|        unknown|    null|   null|\n",
      "|/store/unmerged/R...|1617242405| T2_US_Wisconsin|   hep.wisc.edu|    null|   null|\n",
      "|/store/unmerged/R...|1617242407| T1_US_FNAL_Disk|       fnal.gov|    null|   null|\n",
      "|/store/data/Run20...|1617242407|    T2_ES_CIEMAT|      ciemat.es|    null|   true|\n",
      "|/store/mc/RunIIFa...|1617242408|      T2_CH_CERN|rcac.purdue.edu|    true|   null|\n",
      "|/store/mc/RunIISu...|1617242408|    T2_US_Purdue|        unknown|    null|   null|\n",
      "|/store/data/Run20...|1617242408|      T2_CH_CERN|        cern.ch|    null|   null|\n",
      "|/store/unmerged/R...|1617242408|      T1_RU_JINR|        unknown|    null|   null|\n",
      "|/store/mc/RunIISu...|1617242409|      T2_US_UCSD|        unknown|    null|   null|\n",
      "|/store/data/Run20...|1617242409|      T2_DE_DESY|        unknown|    null|   true|\n",
      "|/store/data/Run20...|1617242409|      T1_RU_JINR|        unknown|    null|   true|\n",
      "+--------------------+----------+----------------+---------------+--------+-------+\n",
      "only showing top 20 rows\n",
      "\n"
     ]
    }
   ],
   "source": [
    "df.show()"
   ]
  },
  {
   "cell_type": "code",
   "execution_count": 6,
   "id": "scenic-polish",
   "metadata": {
    "scrolled": false
   },
   "outputs": [
    {
     "name": "stdout",
     "output_type": "stream",
     "text": [
      "file_lfn , string\n",
      "timestamp , bigint\n",
      "site_name , string\n",
      "server_domain , string\n",
      "fallback , string\n",
      "is_crab , boolean\n"
     ]
    }
   ],
   "source": [
    "for col in df.dtypes:\n",
    "    print(col[0]+\" , \"+col[1])"
   ]
  },
  {
   "cell_type": "code",
   "execution_count": 42,
   "id": "excess-month",
   "metadata": {},
   "outputs": [],
   "source": [
    "df_dom = (\n",
    "        spark.read\n",
    "        .json(\"/user/chmcgrad/domain_map/*.json\")\n",
    ")"
   ]
  },
  {
   "cell_type": "code",
   "execution_count": 56,
   "id": "secondary-centre",
   "metadata": {},
   "outputs": [],
   "source": [
    "df = (\n",
    "        df.filter(df.file_lfn.startswith(\"/store/\"))\n",
    "        .join(df_dom, (df.server_domain == df_dom.domain), how = 'left')\n",
    "        .withColumn(\"is_local\", \n",
    "                    when((df.server_domain == 'unknown'), True)\n",
    "                    .when((df.server_domain == \"in2p3.fr\") \n",
    "                          & df.site_name.isin(\"T1_FR_CCIN2P3_Disk\", \"T2_FR_IPHC\", \"T2_FR_GRIF_LLR\", \"T2_FR_CCIN2P3\"), True)\n",
    "                    .when((df.server_domain == \"in2p3.fr\") \n",
    "                          & ~df.site_name.isin(\"T1_FR_CCIN2P3_Disk\", \"T2_FR_IPHC\", \"T2_FR_GRIF_LLR\", \"T2_FR_CCIN2P3\"), False)\n",
    "                    .when(df.site_name == df_dom.site, True)\n",
    "                    .when(df.fallback == 'true', False)\n",
    "                    .otherwise(None))\n",
    "        .drop(\"server_domain\")\n",
    "        .drop(\"fallback\")\n",
    "        .drop(\"domain\")\n",
    "        .drop(\"site\")\n",
    "    )"
   ]
  },
  {
   "cell_type": "code",
   "execution_count": 57,
   "id": "perfect-advisory",
   "metadata": {},
   "outputs": [
    {
     "name": "stdout",
     "output_type": "stream",
     "text": [
      "+--------------------+----------+-----------------+-------+--------+\n",
      "|            file_lfn| timestamp|        site_name|is_crab|is_local|\n",
      "+--------------------+----------+-----------------+-------+--------+\n",
      "|/store/mc/RunIIAu...|1612453895|    T2_US_Florida|   true|   false|\n",
      "|/store/mc/RunIISu...|1612453896|       T2_DE_DESY|   true|    true|\n",
      "|/store/mc/RunIIAu...|1612453896|  T2_US_Wisconsin|   true|    true|\n",
      "|/store/unmerged/R...|1612453896|  T1_US_FNAL_Disk|   null|    true|\n",
      "|/store/data/Run20...|1612453897|  T2_US_Wisconsin|   true|   false|\n",
      "|/store/data/Run20...|1612453897|    T2_US_Caltech|   true|    null|\n",
      "|/store/unmerged/R...|1612453897|        T2_US_MIT|   null|    true|\n",
      "|/store/mc/RunIIAu...|1612453899| T2_US_Vanderbilt|   true|   false|\n",
      "|/store/mc/RunIIFa...|1612453899|  T1_US_FNAL_Disk|   true|    true|\n",
      "|/store/group/phys...|1612453899|       T2_CH_CERN|   true|    true|\n",
      "|/store/mc/RunIIAu...|1612453900|   T2_US_Nebraska|   true|   false|\n",
      "|/store/data/Run20...|1612453900|    T2_US_Caltech|   true|    true|\n",
      "|/store/unmerged/R...|1612453901|  T1_US_FNAL_Disk|   null|    true|\n",
      "|/store/mc/RunIISu...|1612453901|    T2_IT_Legnaro|   true|    true|\n",
      "|/store/mc/RunIIFa...|1612453902|  T2_UK_London_IC|   true|   false|\n",
      "|/store/mc/RunIIAu...|1612453902|       T1_RU_JINR|   true|    true|\n",
      "|/store/unmerged/R...|1612453903|T2_UK_SGrid_RALPP|   null|    true|\n",
      "|/store/mc/RunIIAu...|1612453902|    T2_US_Florida|   true|   false|\n",
      "|/store/data/Run20...|1612453904|        T2_US_MIT|   true|   false|\n",
      "|/store/user/fengw...|1612453904|       T2_BE_IIHE|   true|    true|\n",
      "+--------------------+----------+-----------------+-------+--------+\n",
      "only showing top 20 rows\n",
      "\n"
     ]
    }
   ],
   "source": [
    "df.show()"
   ]
  },
  {
   "cell_type": "code",
   "execution_count": 61,
   "id": "urban-illness",
   "metadata": {},
   "outputs": [
    {
     "name": "stdout",
     "output_type": "stream",
     "text": [
      "+--------+---------+---------+-------+--------+\n",
      "|file_lfn|timestamp|site_name|is_crab|is_local|\n",
      "+--------+---------+---------+-------+--------+\n",
      "+--------+---------+---------+-------+--------+\n",
      "\n"
     ]
    }
   ],
   "source": [
    "df.filter((df.is_local != True) & (df.is_local != False)).show()"
   ]
  },
  {
   "cell_type": "code",
   "execution_count": null,
   "id": "deadly-defeat",
   "metadata": {},
   "outputs": [],
   "source": []
  },
  {
   "cell_type": "code",
   "execution_count": null,
   "id": "painful-bobby",
   "metadata": {},
   "outputs": [],
   "source": []
  },
  {
   "cell_type": "code",
   "execution_count": null,
   "id": "decent-facility",
   "metadata": {},
   "outputs": [],
   "source": [
    "df.columns[:]"
   ]
  },
  {
   "cell_type": "code",
   "execution_count": null,
   "id": "collaborative-drinking",
   "metadata": {},
   "outputs": [],
   "source": [
    "domains_test = df_dom.select(collect_list('server_domain')).first()[0] \n",
    "sites_test = df_dom.select(collect_list('site_name')).first()[0] \n",
    "\n",
    "domains_main = df.select(\"server_domain\").rdd.flatMap(lambda x: x).collect()\n",
    "sites_main = df.select(\"site_name\").rdd.flatMap(lambda x: x).collect()\n"
   ]
  },
  {
   "cell_type": "code",
   "execution_count": null,
   "id": "changed-fifty",
   "metadata": {},
   "outputs": [],
   "source": [
    "truth = []\n",
    "for i, dom1 in enumerate(domains_main):\n",
    "    if dom1 == 'unknown':\n",
    "        truth.append(False)\n",
    "    else:\n",
    "        for j, dom2 in enumerate(domains_test):\n",
    "            if dom1 == dom2:\n",
    "#            print(\"index i = \", i)\n",
    "#            print(\"index j = \", j)\n",
    "                if sites_test[j] == sites_main[i]: \n",
    "#                print(sites_test[j] + \" =?\", sites_main[i])\n",
    "                    truth.append(True)\n",
    "                else:\n",
    "                    truth.append(False)\n",
    "        "
   ]
  },
  {
   "cell_type": "code",
   "execution_count": null,
   "id": "handed-infrared",
   "metadata": {},
   "outputs": [],
   "source": [
    "print(len(sites_main))\n",
    "print(len(truth))\n",
    "truth"
   ]
  },
  {
   "cell_type": "code",
   "execution_count": null,
   "id": "studied-quantum",
   "metadata": {},
   "outputs": [],
   "source": [
    "df.show()"
   ]
  },
  {
   "cell_type": "code",
   "execution_count": 43,
   "id": "weighted-rough",
   "metadata": {},
   "outputs": [
    {
     "name": "stdout",
     "output_type": "stream",
     "text": [
      "+--------------------+-----------------+\n",
      "|              domain|             site|\n",
      "+--------------------+-----------------+\n",
      "|         m45.ihep.su|       T2_RU_IHEP|\n",
      "|       ncg.ingrid.pt| T2_PT_NCG_Lisbon|\n",
      "|      physics.uoi.gr|   T2_GR_Ioannina|\n",
      "|physik.rwth-aache...|       T2_DE_RWTH|\n",
      "|          pi.infn.it|       T2_IT_Pisa|\n",
      "|              pic.es|   T1_ES_PIC_Disk|\n",
      "|         pp.rl.ac.uk|T2_UK_SGrid_RALPP|\n",
      "|              psi.ch|        T3_CH_PSI|\n",
      "|          rc.ufl.edu|    T2_US_Florida|\n",
      "|     rcac.purdue.edu|     T2_US_Purdue|\n",
      "|    recas.ba.infn.it|       T2_IT_Bari|\n",
      "|       roma1.infn.it|       T2_IT_Rome|\n",
      "|         rutgers.edu|    T3_US_Rutgers|\n",
      "|           sdfarm.kr|      T2_KR_KISTI|\n",
      "|       sprace.org.br|     T2_BR_SPRACE|\n",
      "|         t2.ucsd.edu|       T2_US_UCSD|\n",
      "|      ultralight.org|    T2_US_Caltech|\n",
      "|             unl.edu|   T2_US_Nebraska|\n",
      "|     datagrid.cea.fr|  T2_FR_GRIF_IRFU|\n",
      "|             desy.de|       T2_DE_DESY|\n",
      "+--------------------+-----------------+\n",
      "only showing top 20 rows\n",
      "\n"
     ]
    }
   ],
   "source": [
    "df_dom.show()"
   ]
  },
  {
   "cell_type": "code",
   "execution_count": null,
   "id": "restricted-worthy",
   "metadata": {},
   "outputs": [],
   "source": [
    "domains_main"
   ]
  },
  {
   "cell_type": "code",
   "execution_count": null,
   "id": "framed-hazard",
   "metadata": {},
   "outputs": [],
   "source": []
  }
 ],
 "metadata": {
  "kernelspec": {
   "display_name": "Python 3",
   "language": "python",
   "name": "python3"
  },
  "language_info": {
   "codemirror_mode": {
    "name": "ipython",
    "version": 3
   },
   "file_extension": ".py",
   "mimetype": "text/x-python",
   "name": "python",
   "nbconvert_exporter": "python",
   "pygments_lexer": "ipython3",
   "version": "3.8.6"
  },
  "sparkconnect": {
   "bundled_options": [],
   "list_of_options": []
  }
 },
 "nbformat": 4,
 "nbformat_minor": 5
}
